{
  "nbformat": 4,
  "nbformat_minor": 0,
  "metadata": {
    "kernelspec": {
      "name": "python3",
      "display_name": "Python 3"
    },
    "colab": {
      "name": "Task1_Word_Embeddings.ipynb",
      "provenance": [],
      "collapsed_sections": [],
      "include_colab_link": true
    },
    "accelerator": "GPU"
  },
  "cells": [
    {
      "cell_type": "markdown",
      "metadata": {
        "id": "view-in-github",
        "colab_type": "text"
      },
      "source": [
        "<a href=\"https://colab.research.google.com/github/moonisali/ADFB_SpringerNature/blob/master/Task1_Word_Embeddings.ipynb\" target=\"_parent\"><img src=\"https://colab.research.google.com/assets/colab-badge.svg\" alt=\"Open In Colab\"/></a>"
      ]
    },
    {
      "cell_type": "markdown",
      "metadata": {
        "id": "_VZXi_KGi0UR"
      },
      "source": [
        "# Task 1: Word Embeddings (10 points)\r\n",
        "\r\n",
        "This notebook will guide you through all steps necessary to train a word2vec model (Detailed description in the PDF)."
      ]
    },
    {
      "cell_type": "markdown",
      "metadata": {
        "id": "48t-II1vkuau"
      },
      "source": [
        "## Imports\r\n",
        "\r\n",
        "This code block is reserved for your imports. \r\n",
        "\r\n",
        "You are free to use the following packages: \r\n",
        "\r\n",
        "(List of packages)"
      ]
    },
    {
      "cell_type": "code",
      "metadata": {
        "id": "4kh6nh84-AOL",
        "colab": {
          "base_uri": "https://localhost:8080/"
        },
        "outputId": "09867636-0b86-4600-df23-b15ff7d99a85"
      },
      "source": [
        "# Imports\r\n",
        "\r\n",
        "import pandas as pd\r\n",
        "import numpy as np\r\n",
        "import itertools as it\r\n",
        "import spacy\r\n",
        "from spacy.lang.hi import Hindi\r\n",
        "nlp_hi = Hindi()\r\n",
        "import regex as re\r\n",
        "!pip install demoji\r\n",
        "import demoji\r\n",
        "demoji.download_codes()\r\n",
        "!pip install emot\r\n",
        "from emot.emo_unicode import UNICODE_EMO, EMOTICONS\r\n",
        "!pip install emoji"
      ],
      "execution_count": 58,
      "outputs": [
        {
          "output_type": "stream",
          "text": [
            "Collecting emoji\n",
            "\u001b[?25l  Downloading https://files.pythonhosted.org/packages/24/fa/b3368f41b95a286f8d300e323449ab4e86b85334c2e0b477e94422b8ed0f/emoji-1.2.0-py3-none-any.whl (131kB)\n",
            "     |████████████████████████████████| 133kB 6.6MB/s \n",
            "\u001b[?25hInstalling collected packages: emoji\n",
            "Successfully installed emoji-1.2.0\n"
          ],
          "name": "stdout"
        }
      ]
    },
    {
      "cell_type": "markdown",
      "metadata": {
        "id": "NWmk3hVllEcU"
      },
      "source": [
        "# 1.1 Get the data (0.5 points)\r\n",
        "\r\n",
        "The Hindi portion HASOC corpus from [github.io](https://hasocfire.github.io/hasoc/2019/dataset.html) is already available in the repo, at data/hindi_hatespeech.tsv . Load it into a data structure of your choice. Then, split off a small part of the corpus as a development set (~100 data points).\r\n",
        "\r\n",
        "If you are using Colab the first two lines will let you upload folders or files from your local file system."
      ]
    },
    {
      "cell_type": "code",
      "metadata": {
        "id": "XtI7DJ-0-AOP",
        "colab": {
          "base_uri": "https://localhost:8080/",
          "height": 206
        },
        "outputId": "fa0eee75-c61c-4462-8328-50fe62f94938"
      },
      "source": [
        "#TODO: implement!\n",
        "\n",
        "#from google.colab import files\n",
        "#uploaded = files.upload()\n",
        "\n",
        "\n",
        "data_set = pd.read_csv(\"hindi_hatespeech.tsv\",sep='\\t')\n",
        "\n",
        "#Making dev set:   \n",
        "##we use sample function to randomly pick 100 rows as specified in question.\n",
        "dev_set = data_set.sample(n=100)\n",
        "dev_set.head()"
      ],
      "execution_count": 2,
      "outputs": [
        {
          "output_type": "execute_result",
          "data": {
            "text/html": [
              "<div>\n",
              "<style scoped>\n",
              "    .dataframe tbody tr th:only-of-type {\n",
              "        vertical-align: middle;\n",
              "    }\n",
              "\n",
              "    .dataframe tbody tr th {\n",
              "        vertical-align: top;\n",
              "    }\n",
              "\n",
              "    .dataframe thead th {\n",
              "        text-align: right;\n",
              "    }\n",
              "</style>\n",
              "<table border=\"1\" class=\"dataframe\">\n",
              "  <thead>\n",
              "    <tr style=\"text-align: right;\">\n",
              "      <th></th>\n",
              "      <th>text_id</th>\n",
              "      <th>text</th>\n",
              "      <th>task_1</th>\n",
              "      <th>task_2</th>\n",
              "      <th>task_3</th>\n",
              "    </tr>\n",
              "  </thead>\n",
              "  <tbody>\n",
              "    <tr>\n",
              "      <th>2859</th>\n",
              "      <td>hasoc_hi_1498</td>\n",
              "      <td>सुअर बुखारी अब तेरे कौम का अंत निकट आते जा रहा...</td>\n",
              "      <td>HOF</td>\n",
              "      <td>HATE</td>\n",
              "      <td>TIN</td>\n",
              "    </tr>\n",
              "    <tr>\n",
              "      <th>3853</th>\n",
              "      <td>hasoc_hi_2940</td>\n",
              "      <td>अब यह बताना भी गुनाह है की #कुत्ते भी योगा कर ...</td>\n",
              "      <td>HOF</td>\n",
              "      <td>OFFN</td>\n",
              "      <td>TIN</td>\n",
              "    </tr>\n",
              "    <tr>\n",
              "      <th>3324</th>\n",
              "      <td>hasoc_hi_7576</td>\n",
              "      <td>नेता चालाक है वो कुर्सी के लिए धर्म के नाम पर ...</td>\n",
              "      <td>NOT</td>\n",
              "      <td>NONE</td>\n",
              "      <td>NONE</td>\n",
              "    </tr>\n",
              "    <tr>\n",
              "      <th>265</th>\n",
              "      <td>hasoc_hi_3051</td>\n",
              "      <td>कार्यकर्ताओं द्वारा असंभव को संभव बनाने की महा...</td>\n",
              "      <td>NOT</td>\n",
              "      <td>NONE</td>\n",
              "      <td>NONE</td>\n",
              "    </tr>\n",
              "    <tr>\n",
              "      <th>3504</th>\n",
              "      <td>hasoc_hi_4231</td>\n",
              "      <td>शर्मिंदगी निरुत्तर कर ही देती है :    स्वच्छ इ...</td>\n",
              "      <td>NOT</td>\n",
              "      <td>NONE</td>\n",
              "      <td>NONE</td>\n",
              "    </tr>\n",
              "  </tbody>\n",
              "</table>\n",
              "</div>"
            ],
            "text/plain": [
              "            text_id  ... task_3\n",
              "2859  hasoc_hi_1498  ...    TIN\n",
              "3853  hasoc_hi_2940  ...    TIN\n",
              "3324  hasoc_hi_7576  ...   NONE\n",
              "265   hasoc_hi_3051  ...   NONE\n",
              "3504  hasoc_hi_4231  ...   NONE\n",
              "\n",
              "[5 rows x 5 columns]"
            ]
          },
          "metadata": {
            "tags": []
          },
          "execution_count": 2
        }
      ]
    },
    {
      "cell_type": "markdown",
      "metadata": {
        "id": "D-mSJ8nUlupB"
      },
      "source": [
        "## 1.2 Data preparation (0.5 + 0.5 points)\r\n",
        "\r\n",
        "* Prepare the data by removing everything that does not contain information. \r\n",
        "User names (starting with '@') and punctuation symbols clearly do not convey information, but we also want to get rid of so-called [stopwords](https://en.wikipedia.org/wiki/Stop_word), i. e. words that have little to no semantic content (and, but, yes, the...). Hindi stopwords can be found [here](https://github.com/stopwords-iso/stopwords-hi/blob/master/stopwords-hi.txt) Then, standardize the spelling by lowercasing all words.\r\n",
        "Do this for the development section of the corpus for now.\r\n",
        "\r\n",
        "* What about hashtags (starting with '#') and emojis? Should they be removed too? Justify your answer in the report, and explain how you accounted for this in your implementation."
      ]
    },
    {
      "cell_type": "code",
      "metadata": {
        "id": "RkD353LjnOCF"
      },
      "source": [
        "import pandas as pd\r\n",
        "import numpy as np\r\n",
        "import itertools as it\r\n",
        "import spacy\r\n",
        "from spacy.lang.hi import Hindi\r\n",
        "import regex as re\r\n",
        "import emoji\r\n",
        "#from spacymoji import Emoji\r\n",
        "nlp_hi = Hindi()\r\n",
        "demoji.download_codes()\r\n",
        "\r\n",
        "\r\n",
        "\r\n",
        "stop_words = open(\"stop_word_hindi.txt\",\"r\")\r\n",
        "stopword_list = stop_words.readlines()\r\n",
        "stop_words.close()\r\n",
        "converted_list = []\r\n",
        "for element in stopword_list:\r\n",
        "    converted_list.append(element.strip())\r\n",
        "print(converted_list)\r\n",
        "\r\n",
        "for stopword in stopword_list:\r\n",
        "    lexeme = nlp_hi.vocab[stopword]\r\n",
        "    lexeme.is_stop = True\r\n"
      ],
      "execution_count": null,
      "outputs": []
    },
    {
      "cell_type": "code",
      "metadata": {
        "id": "XcLGahnQr2wV"
      },
      "source": [
        "def preprocessing_hi(tweet):\r\n",
        "  tweet_hi = []\r\n",
        "  \r\n",
        "  tweet = re.sub('http\\S+\\s*', '', tweet)  # remove URLs\r\n",
        "  tweet = re.sub('RT|cc', '', tweet)  # remove RT and cc\r\n",
        "  tweet = re.sub('#\\S+', '', tweet)  # remove hashtags\r\n",
        "  tweet = re.sub('@\\S+', '', tweet)  # remove mentions\r\n",
        "  tweet = demoji.replace(tweet,\" \") #remove smoji's\r\n",
        "  tweet = re.sub('[%s]' % re.escape(\"\"\"!\"#$%&'()*+,-./:;<=>?@[\\]^_`{|}~\"\"\"), ' ', tweet)  # remove punctuations\r\n",
        "  tweet = re.sub('\\s+', ' ', tweet)  # remove extra whitespace\r\n",
        "    \r\n",
        "    \r\n",
        "  # ******* the following piece shall check for hindi specific text-preprocessing using spacy.hindi. lan. library ***** \r\n",
        "  # ******* as well as catches exception from previous block **********************************************************  \r\n",
        "  \r\n",
        "  tokenized_text = nlp_hi(tweet)\r\n",
        "  for token in tokenized_text:\r\n",
        "    if(token.text!='\\n\\n' \r\n",
        "      and (re.search('#\\S+',token.text)is None)\r\n",
        "      and (re.search(r'@\\S+',token.text) is None)\r\n",
        "      and not token.is_stop \r\n",
        "      and not token.is_punct \r\n",
        "      and not token.is_space \r\n",
        "      and not token.like_email\r\n",
        "      and not token.is_digit\r\n",
        "      and not token.is_quote\r\n",
        "      and not token.like_url):\r\n",
        "     tweet_hi.append(token.lemma_)\r\n",
        "  \r\n",
        "  \r\n",
        "  tweet = ' '.join([token  for token in tweet_hi])\r\n",
        "   \r\n",
        "  return tweet"
      ],
      "execution_count": 94,
      "outputs": []
    },
    {
      "cell_type": "code",
      "metadata": {
        "colab": {
          "base_uri": "https://localhost:8080/"
        },
        "id": "QyrTFS8G2AB5",
        "outputId": "bd8d4e84-db59-4b70-d9df-60d785506050"
      },
      "source": [
        "#from bs4 import BeautifulSoup\r\n",
        "\r\n",
        "tes = \" #gol #gol So 9 आज दिल्ली के तालकटोरा स्टेडियम में शिक्षा विभाग,दिल्ली सरकार के सौजन्य से आयोजित 'हैपीनेस एजुकेशन' के समापन समारोह में सम्मिलित हुआ 😀। इस कार्यक्रम में दिल्ली सरकार के विधायक,शिक्षा विभाग के उच्चाधिकारी व स्कूली बच्चों ने अपनी उपस्थिति दर्ज कराई। #Budget2019  @AAPDelhi @AamAadmiParty  https://t.co/zhNmdReb3A\"\r\n",
        "print(tes)\r\n",
        "print(\"Cleaned Tweet is:\",clean_tweet(tes))\r\n",
        "now = clean_tweet(tes) \r\n",
        "tweet = print(\"Pre-processed tweet is:\", preprocessing_hi(now))\r\n",
        "\r\n",
        "#**** All the tweets from dev.set are pre-processed ****\r\n",
        "cleaned_tweets = []\r\n",
        "for t in dev_set.text:\r\n",
        "  cleaned_tweets.append(preprocessing_hi(t))\r\n",
        "\r\n",
        "df = pd.DataFrame(cleaned_tweets, columns = ['cleaned_tweets'])\r\n",
        "print(cleaned_tweets[:-5])"
      ],
      "execution_count": 98,
      "outputs": [
        {
          "output_type": "stream",
          "text": [
            " #gol #gol So 9 आज दिल्ली के तालकटोरा स्टेडियम में शिक्षा विभाग,दिल्ली सरकार के सौजन्य से आयोजित 'हैपीनेस एजुकेशन' के समापन समारोह में सम्मिलित हुआ 😀। इस कार्यक्रम में दिल्ली सरकार के विधायक,शिक्षा विभाग के उच्चाधिकारी व स्कूली बच्चों ने अपनी उपस्थिति दर्ज कराई। #Budget2019  @AAPDelhi @AamAadmiParty  https://t.co/zhNmdReb3A\n",
            "Cleaned Tweet is:  So 9 आज दिल्ली के तालकटोरा स्टेडियम में शिक्षा विभाग दिल्ली सरकार के सौजन्य से आयोजित हैपीनेस एजुकेशन के समापन समारोह में सम्मिलित हुआ । इस कार्यक्रम में दिल्ली सरकार के विधायक शिक्षा विभाग के उच्चाधिकारी व स्कूली बच्चों ने अपनी उपस्थिति दर्ज कराई। \n",
            "Pre-processed tweet is: So आज दिल्ली तालकटोरा स्टेडियम शिक्षा विभाग दिल्ली सरकार सौजन्य आयोजित हैपीनेस एजुकेशन समापन समारोह सम्मिलित कार्यक्रम दिल्ली सरकार विधायक शिक्षा विभाग उच्चाधिकारी स्कूली बच्चों उपस्थिति दर्ज कराई\n",
            "['सुअर बुखारी अब तेरे कौम अंत निकट आते इतना समझ ले', 'अब बताना गुनाह योगा क्यों हद्द भाई दिमाग प्रभु', 'नेता चालाक वो कुर्सी धर्म नाम लड़वाते जनता मुर्ख धर्म नाम आपस लड़ती', 'कार्यकर्ताओं असंभव संभव बनाने महारत दिल्ली जीत ऐतिहासिक बनाया इक्कीस वर्ष बनवास दिल्ली रामराज्य कायम शेष श्री', 'शर्मिंदगी निरुत्तर देती स्वच्छ इंदौर दाग़ी बीजेपी विधायक आकाश विजयवर्गीय अस्वच्छ आचरण बारे सवाल शिवराज जी मौन गये शिवराज जी आओ भाजपा नेताओं चारित्रिक पतन नैतिकता दफ़्न अनशन मौन सब कह', 'मुल्ली तकलीफ जीजा उपर चार्ज शीट दाखिल हा इसको हर मुसलमान बेगुनाह दिखाई देता दोषी बस सिर्फ हिन्दू हिन्दू मुस्लिम राजनीतिक वाली रंडी बदनाम करके रोटी शेक रही', 'लोग ऐसी घटना चुप बैठे उसका बॉयकाट करो हरामी साले', 'विपक्ष चला देखो Free voice Red', 'तु बीजेपी गलती इंतजार ऐसा रंडी ग्राहक', 'बीवी बच्चे सूअर जायदा इलाज कराएँगे', 'वैसे होकर करेगा', 'मुझे पूरे मुल्क़ सिर्फ शख्स जीतने दिली खुशी शख्स सी उम्मीदे जनाब जीत मुबारक़बाद अल्लाह आपको खूब कामयाबी अता फरमाये आमीन', 'आने वाला बेहतरीन उत्तरप्रदेश आज महाराष्ट्र', 'वो हरामी माँ गर्भ लज़्ज़ित चन्द वोटो कोठे बैठाने लगा सुन जयचंद तेरे सुअर देश माँ आन खेलने नही देंगे', 'हाथ देश आता वो माल समझकर उड़ाता मई तेरा तय भंग बिस्तर समेटना शुरू दे', 'सूअर आका मसूद केज़री खान डेल्ही बेली', 'जायरा वसीम इस्लाम हवाला देकर बाकी मुस्लिम कलाकारों हरामी हराम खाने सिद्ध भारत दुनिया एकमात्र देश बहुसंख्यक अल्पसंख्यक बराबर अधिकार देने भीख सरकारों मांगता मिलती दुत्कार', 'पुंछ from the party organised by Indian Army yesterday Via', 'People voted to enjoy sufferings and they badly deserve it', 'वर्ल्ड कप लक्ष्य पीछा उतरी बांग्लादेश लगे चार झटके अर्धशतक बनाकर डटे शाकिब', 'चेस्टर ली स्ट्रीट रिवरसाइड ग्राउंड आज बीच मुकाबला खेला जाएगा थोड़ी देर टॉस होगा', 'अल्लाह तेरे बाप क्या सूअर औलाद हमें गाली देने आता', 'दुआएं हर जगह क़ुबूल बशर्ते इंसान अल्लाह हुक्मो रोज़ नमाज़ अदा', 'मुजफ्फरपुर जिले सहित करीब जिलों फैले एक्यूट इंसेफलाइटिस सिंड्रोम एईएस पीड़ित होकर मौत मुंह निकल चुके बच्चों अब दिव्यांग आशंका व्यक्त रही', 'भोसड़ी झाडू तेरी मां आंख तेरे बाप जागीर हिंदुस्तान सबका क्यों पाकिस्तान हिंदू बांग्लादेश हिंदू रह साले झाडू हरामि औलाद आदमखोर औलाद तेरी पूरी फैमिली हारामी झाडू अगली बार मत बोलना ज्यादा फालतू', 'कभी कभी लगता ओवैसी नाम ब्रांड', 'Rss राष्ट्र सेविका समिति संस्थापिका एवम प्रथम प्रमुख संचालिका वंदनीय मौशिजी केल्कर जी जन्मदिवस सेविकाओं शत् शत् नमन', 'लोगो सबके सामने टाँग पुरे दिखाओ', 'मीडिया BJP सुनामी चल रही देखकर मुझे तेरी मेहरबानिया फिल्म वफादारी याद आ गई', 'कह हुकूमत डरेंगे गिर जायेंगे उठेंगे उठ लड़ेंगे', 'बाहुबली हिंदू समाज सीबीआई केस दर्ज रही अतीक अहमद पर।ये पक्षपात क्या बाहुबली अतीक अहमद CBI दर्ज केस प्रॉपर्टी डीलर जेल पीटने आरोप Source OneIndia via Dailyhunt डाउनलोड', 'तुम भड़वे पर्याय भड़वा तुम्हारा', 'Part देसी Lola Bhabhi भाभी चुदाई years', 'भरी रात भाभी चोदा उसकी चूत फाड़ चोबारा बना भाबी भोत मज़े देवर लुंड And town For simply come and experience', 'भुजंगासन नियमित रूप पीठ दर्द आराम मिलता आसन सारे फायदे', 'दिल्ली दिल तालिबानी सोच पार्किंग झगड़े मंदिर निशाना क्यों झारखंड आक्रोश दिल्ली खामोश देखिए शाम बजे', 'कर्मो कारण', 'मोहम्मद शमी सपा बसपा कांग्रेस शामिल जाये बीजेपी साबित देगी अफगानिस्तान मैच शामी विकेट वो गेंदे वाईड बॉल थीं', 'तू मादरचोद माँ भो देख सुअर चोदे पत्र कार झांट भोषड़ी तेरा खानदान अंग्रेजी हुकूमत लोहा लिया', 'मतलब मुस्लिम अपील वो कांग्रेस वोट दें खुजलीवाल', 'Every soul will taste of death And ye will be paid on the Day of Resurrection only that which ye have fairly earned Who so is removed from the Fire and is made to enter Paradise he indeed is triumphant The life of this world is but comfort of illusion Quran', 'वीडियो रंडी बंच्चा कविता सुना जिससे माहौल गरम न्यूज चैनलो अनुरोध हरामी पुरी कविता दिखाई जाये', 'चुनाव लड़े मीडिया आपत्ति बार विधायक बार सांसद रहने बावजूद अतीक अहमद नाम माफिया बाहुबली जाने क्या क्या जाता प्राइम टाइम डॉन कहकर छवि बिगाड़ी जाती क्या गरीबो आवाज़ उठाना मदद गुण्डागर्दी', 'गुलाबी कंहा भड़वा sorry भगवा गैंग गुलामी गैंग part', 'जीजा साली गरम चुदाई sec', 'अब बोलता हूं हर बात सही ग़लत तोलता हूं सब जिंदगानी चले गये कहानी बाते यूं हीं चलती रहेंगी तुझसे करती वो खुद करेंगी', 'जम्मू बीजेपी नेता भारतीय सेना जमीन कब्जा मतलब वास्तव हिंदूत्व खतरे', 'क्लासमेट दीपिका नियत बिगड़ दी मेरे लुंड', 'क्या मुस्लिम समुदाय नौजवान हिन्दू बनके मुस्लिम लड़के पकड़के थप्पड़ मार्के जय श्रीराम बोलने मजबूर नही करा हिन्दू समाज बदनाम इसमे पोलिटिकल मीडिया हाथ हिन्दू बर्बाद सावधान', 'अब जनता प्राकृतिक ऑटोमैटिक बारूद करके बन्द करोगे खिलौना चलाएंगे इब कुत्ते कर्म करोगे फेर मौत मरोगे बी टेम आग्या', 'भगवा जर्सी देख लग बार कमान जी हाथ', 'सिखों हत्यारा मादरचोद काले लुंड पैदाईश', 'अल्लहा हराम हरामी', 'जातियों sc शामिल हिसाब आरक्षण अनुपात बढ़ना चाहिए सहमत retweet करो', 'क्यों सूअर असलियत पता चली बुरा लगा', 'मयंक गुप्ता भड़वा दलाल जले जले', 'कल रात सपने लड़की मुझसे बर्तन मंजवाए कपड़े धुलवाए क्या निकट भविष्य शादी संकेत समझूं कृपया शादीशुदा लोग मार्गदर्शन करे', 'Kya Akaless ji post to aap ayse kar rage ho jaise aap ne apne salo me kafi teer mare hoKuch to saram karo', 'अबे कटे लंड औलाद रंडी खातून पैदाईस सुन गलत गलत मान मर्यादित भाषा टिप्पणी करो', 'तु सही मादरचोद औलाद कुत्ते', 'आज नाहिद ईद बधाई देते मन भीग नाहिद माता पिता पिछले दिनों हादसे दुखद निधन कॉलेज प्रथम वर्ष पढ़ने वाली बच्ची पैर गंवाना पड़ा मैंने पढ़ाई लिखाई हर संभव मदद वादा ईद मुबारक बिटिया', 'साल बदला बदली मुंबई तस्वीर सुनिए क्या कहना महाराष्ट्र बीजेपी प्रवक्ता Live', 'जानिए बजट कैसा रहेगा शेयर बाजार हाल क्या स्ट्रेटेजी बना निवेशक', 'देखो हमारी दीदी मोबाइल चलाते राहुल गांधी दिख गए बच्चों मौत खामोस मोदी नही दिखे पत्रकारों PMO ऑफिस घंटे ट्रेनिंग दी जाती विपक्ष छोटी छोटी बातों बतंगड़ बनाने लगी रहो बहिंन जी देशहित बर्बाद तुम्हारा नाम याद जाएगा', 'देश पढ़ा लिखा युवा हार जाए जीत जाये देश जनता क्या', 'आतंकी देशभक्त बताने वाली क्या कार्यवाही करेंगे वो Hidden Agenda पर्दा डाल मुद्दे बदल देंगे', 'जनता फैसला सुना हमे चाहिए नही चाहिए देश टुकड़े करे जिसके ऊपर आरोप वोट देगा', 'Dineout Now shop till you drop Me भक भोसडीके', 'मोदी जी किरदार निभाते निभाते मोदी जी आत्मा घुस गई इनमें', 'president jb sb Ke hukum se Jharkhand Pradesh Adhyaksh sahab ne apni team ke sath Marhoom ke Ghar unki walida aur unki Bewa se Mulaqat karke rs ki madad di Aur tabrez ke liye insaf kibladai ka wada Kiya', 'उदास उदास रहता दिन फेसबुक आपके पोस्ट पढ़ा हमेशा खुश रहने लगा आपके पोस्ट पढ़ लाते इतना ज्ञान', 'व्यवहारिक ज्ञान देश अर्थव्यवस्था मजबूती प्रदान ध्यान जाएगा शोध राष्ट्रीय अंतरराष्ट्रीय महत्व होगा मुझे आशा प्रकार योजनाएं देश सामाजिक आर्थिक परिवर्तन उत्प्रेरक भूमिका निभाएंगी', 'बंगाल पेड़ गिर जाए चार छे पत्ते बिखर जाए दल्ली मीडिया पहुँच नंगा नाच सुरु देती ममता नही सम्हल बंगाल बंगाल हाल बेहाल हेडलाइन बनते वही UP दिनो लगातार हत्या बलात्कार इसपे मीडिया चुप UP यूगांडा', 'जीत शर्मनाक जिसने शहादत सूतक श्राप मौत गोडसे देशभक्त जबकि दूसरी तरफ पाक जनता हाफिज सईद जमानत जब्त करा दी छोड़िए सरकार किसकी नही हमारी बौद्धिक संपदा नष्ट गई झूठ छल कपट अपशब्द न्यू इंडिया बधाई आपको', 'भोसडीके फ्रीडम ऑफ़ स्पीच चाटुकार आज आग लगी इनके पिछवाड़े अब तुम्हे बर्नोल नही वैसलीन जरूरत पड़ेगी', 'माननीय श्री जी रक्षा मंत्री बनने हार्दिक शुभकामनाएं', 'श्रीनगर कश्मीर प्रभात फेरी वर्षों पहली बार सोचो आँखे खोलो कैसे मुमकिन', 'जोया अनुपम अनुराग कश्यप समेत कलाकारों मिला नई ऑस्कर अकादमी सदस्य बनने निमंत्रण', 'स्कूटर खड़ी बहस दोनों हाथापाई हल्के जख्मी सब ठीक मुहल्ले बात परेशानी हां अलगावबादी सुअर पिल्ले समाज दुश्मनों बातों आएं', 'ब्लॉक क्यूँ भोसडी काग़ज़ी शेर ज़रा अनब्लॉक करो दिखता हुँ तुमको किसकी गांड दम चुतिये काग़ज़ी हिंदू', 'अंजना रुबिका सरदाना लिंचिंग खबर तुलनात्मक विश्लेषण विश्लेषण जायज़ ठहराना अब सब सरकार माई बाप दामन लगा खून धब्बा चाटने जाता Via', 'बेशर्मी तुम दिखाते हरामखोर डरा मुसलमान सौ साल पुरानी मंदिर तोड़फोड़ हरामी फर्जीवाल टीम खामोश उससे सवाल क्यों पूछते', 'ले लिया मुंह मादरचोद निकल भड़वे', 'वादा लगता दमे रोग लग सीने', 'रातमा त फूललाई पनि हुँदैन बिहान मन्दिर जाने चिहान', 'FBपोस्ट पढें क्योंकि घटीया सोंच ABVP कार्यकर्ता महिलाओं हमेशा गलत नजरिए देखते बस चले सगी बहन छोडते महिला विरोधी RSS कोर्स भक्त कोर्स पूरी भाजपा नेता बने बैठे', 'Akhilesh bhaiya ab app aha kaam kar rahe hai isi tarah lage rahiye me cm aapko banana haiJai samajvad', 'गुजरात साल भाजपा नेता साल कार्यकर्ता रचाई तीसरी शादी मोदी जी हलाला तीन तलाक़ नताओ संभालिए', 'भगवा ब्रिगेड शिक्षण संस्थानो खत्म चाहती भाजपा चाहती युवा पढ़े नही पकोड़े बेचे जेनयू अब सुनियोजित तरीके अलीगढ़ मुस्लिम यूनिवर्सिटी माहौल खराब ऐसी स्टूडेंट्स विरोधी शिक्षा विरोधी सरकार हम सत्ता हटाकर रहेंगे', 'Musalman ki majboori hai Congress jaise hi musalmano ko option milega musalman Congress ko chordega Spokesperson on', 'चुनाव सुधार चर्चा खुले मन होनी चाहिए देश चुनाव कम कम चर्चा करो ओडिशा उदाहरण सामने मतदाताओं लोकसभा मतदान विधानसभा दूसरा मतदान हमारे मतदाता समय विवेक बुद्धि सरकार चुन पीएम', 'ज़ुल्म इतना बुरा जितनी बुरी तुम्हारी खामोशी हक़ बोलना सीखो वरना पीढियां गूंगी जाएंगी', 'सविधान रेप जायज', 'आता माजी सतकली भेनचोद भोस्डिके मादरचोद हिजड़े सुन तुजे इमरान खान उसका पाकिस्तान इतना अच्चल लगता तू माँ छुड़वाने वहा क्यों चला जाता हमारी माँ क्यों चोदत', 'आजम खान बोलता मादरचोद उड़ा साले']\n"
          ],
          "name": "stdout"
        }
      ]
    },
    {
      "cell_type": "markdown",
      "metadata": {
        "id": "Je09nozLmmMm"
      },
      "source": [
        "## 1.3 Build the vocabulary (0.5 + 0.5 points)\r\n",
        "\r\n",
        "The input to the first layer of word2vec is an one-hot encoding of the current word. The output od the model is then compared to a numeric class label of the words within the size of the skip-gram window. Now\r\n",
        "\r\n",
        "* Compile a list of all words in the development section of your corpus and save it in a variable ```V```."
      ]
    },
    {
      "cell_type": "code",
      "metadata": {
        "id": "VpoGmTKx-AOQ"
      },
      "source": [
        "#TODO: implement!\n",
        "V = "
      ],
      "execution_count": null,
      "outputs": []
    },
    {
      "cell_type": "markdown",
      "metadata": {
        "id": "WiaVglVNoENY"
      },
      "source": [
        "* Then, write a function ```word_to_one_hot``` that returns a one-hot encoding of an arbitrary word in the vocabulary. The size of the one-hot encoding should be ```len(v)```."
      ]
    },
    {
      "cell_type": "code",
      "metadata": {
        "id": "yqPNw6IT-AOQ"
      },
      "source": [
        "#TODO: implement!\n",
        "def word_to_one_hot(word):\n",
        "  pass"
      ],
      "execution_count": null,
      "outputs": []
    },
    {
      "cell_type": "markdown",
      "metadata": {
        "id": "gKD8zBlxVclh"
      },
      "source": [
        "## 1.4 Subsampling (0.5 points)\r\n",
        "\r\n",
        "The probability to keep a word in a context is given by:\r\n",
        "\r\n",
        "$P_{keep}(w_i) = \\Big(\\sqrt{\\frac{z(w_i)}{0.001}}+1\\Big) \\cdot \\frac{0.001}{z(w_i)}$\r\n",
        "\r\n",
        "Where $z(w_i)$ is the relative frequency of the word $w_i$ in the corpus. Now,\r\n",
        "* Calculate word frequencies\r\n",
        "* Define a function ```sampling_prob``` that takes a word (string) as input and returns the probabiliy to **keep** the word in a context."
      ]
    },
    {
      "cell_type": "code",
      "metadata": {
        "id": "Mj4sDOVMMr0b"
      },
      "source": [
        "#TODO: implement!\r\n",
        "def sampling_prob(word):\r\n",
        "  pass"
      ],
      "execution_count": null,
      "outputs": []
    },
    {
      "cell_type": "markdown",
      "metadata": {
        "id": "kxV1P90zplxu"
      },
      "source": [
        "# 1.5 Skip-Grams (1 point)\r\n",
        "\r\n",
        "Now that you have the vocabulary and one-hot encodings at hand, you can start to do the actual work. The skip gram model requires training data of the shape ```(current_word, context)```, with ```context``` being the words before and/or after ```current_word``` within ```window_size```. \r\n",
        "\r\n",
        "* Have closer look on the original paper. If you feel to understand how skip-gram works, implement a function ```get_target_context``` that takes a sentence as input and [yield](https://docs.python.org/3.9/reference/simple_stmts.html#the-yield-statement)s a ```(current_word, context)```.\r\n",
        "\r\n",
        "* Use your ```sampling_prob``` function to drop words from contexts as you sample them. "
      ]
    },
    {
      "cell_type": "code",
      "metadata": {
        "id": "r8CCTpVy-AOR"
      },
      "source": [
        "#TODO: implement!\n",
        "\n",
        "def get_target_context(sentence):\n",
        "  pass"
      ],
      "execution_count": null,
      "outputs": []
    },
    {
      "cell_type": "markdown",
      "metadata": {
        "id": "gfEFgtkmuDjL"
      },
      "source": [
        "# 1.6 Hyperparameters (0.5 points)\r\n",
        "\r\n",
        "According to the word2vec paper, what would be a good choice for the following hyperparameters? \r\n",
        "\r\n",
        "* Embedding dimension\r\n",
        "* Window size\r\n",
        "\r\n",
        "Initialize them in a dictionary or as independent variables in the code block below. "
      ]
    },
    {
      "cell_type": "code",
      "metadata": {
        "id": "d7xSKuFJcYoD"
      },
      "source": [
        "# Set hyperparameters\n",
        "window_size = \n",
        "embedding_size = \n",
        "\n",
        "# More hyperparameters\n",
        "learning_rate = 0.05\n",
        "epochs = 100"
      ],
      "execution_count": null,
      "outputs": []
    },
    {
      "cell_type": "markdown",
      "metadata": {
        "id": "xiM2zq-YunPx"
      },
      "source": [
        "# 1.7 Pytorch Module (0.5 + 0.5 + 0.5 points)\r\n",
        "\r\n",
        "Pytorch provides a wrapper for your fancy and super-complex models: [torch.nn.Module](https://pytorch.org/docs/stable/generated/torch.nn.Module.html). The code block below contains a skeleton for such a wrapper. Now,\r\n",
        "\r\n",
        "* Initialize the two weight matrices of word2vec as fields of the class.\r\n",
        "\r\n",
        "* Override the ```forward``` method of this class. It should take a one-hot encoding as input, perform the matrix multiplications, and finally apply a log softmax on the output layer.\r\n",
        "\r\n",
        "* Initialize the model and save its weights in a variable. The Pytorch documentation will tell you how to do that."
      ]
    },
    {
      "cell_type": "code",
      "metadata": {
        "colab": {
          "base_uri": "https://localhost:8080/"
        },
        "id": "D9sGNytYhwxS",
        "outputId": "41645b64-e4ed-4e6a-e10f-74cb39b92230"
      },
      "source": [
        "# Create model \n",
        "\n",
        "class Word2Vec(Module):\n",
        "  def __init__(self):\n",
        "    super().__init__()\n",
        "\n",
        "\n",
        "  def forward(self, one_hot):\n",
        "    pass"
      ],
      "execution_count": null,
      "outputs": [
        {
          "output_type": "stream",
          "text": [
            "Word2Vec(\n",
            "  (input): Linear(in_features=534, out_features=300, bias=False)\n",
            "  (output): Linear(in_features=300, out_features=534, bias=False)\n",
            ")\n"
          ],
          "name": "stdout"
        }
      ]
    },
    {
      "cell_type": "markdown",
      "metadata": {
        "id": "XefIDMMHv5zJ"
      },
      "source": [
        "# 1.8 Loss function and optimizer (0.5 points)\r\n",
        "\r\n",
        "Initialize variables with [optimizer](https://pytorch.org/docs/stable/optim.html#module-torch.optim) and loss function. You can take what is used in the word2vec paper, but you can use alternative optimizers/loss functions if you explain your choice in the report."
      ]
    },
    {
      "cell_type": "code",
      "metadata": {
        "id": "V9-Ino-e29w3"
      },
      "source": [
        "# Define optimizer and loss\n",
        "optimizer = \n",
        "criterion = "
      ],
      "execution_count": null,
      "outputs": []
    },
    {
      "cell_type": "markdown",
      "metadata": {
        "id": "ckTfK78Ew8wI"
      },
      "source": [
        "# 1.9 Training the model (3 points)\r\n",
        "\r\n",
        "As everything is prepared, implement a training loop that performs several passes of the data set through the model. You are free to do this as you please, but your code should:\r\n",
        "\r\n",
        "* Load the weights saved in 1.6 at the start of every execution of the code block\r\n",
        "* Print the accumulated loss at least after every epoch (the accumulate loss should be reset after every epoch)\r\n",
        "* Define a criterion for the training procedure to terminate if a certain loss value is reached. You can find the threshold by observing the loss for the development set.\r\n",
        "\r\n",
        "You can play around with the number of epochs and the learning rate."
      ]
    },
    {
      "cell_type": "code",
      "metadata": {
        "id": "LbMGD5L0mLDx"
      },
      "source": [
        "# Define train procedure\n",
        "\n",
        "# load initial weights\n",
        "\n",
        "def train():\n",
        " \n",
        "  print(\"Training started\")\n",
        "\n",
        "train()\n",
        "\n",
        "print(\"Training finished\")"
      ],
      "execution_count": null,
      "outputs": []
    },
    {
      "cell_type": "markdown",
      "metadata": {
        "id": "BgQkaYstyj0Q"
      },
      "source": [
        "# 1.10 Train on the full dataset (0.5 points)\r\n",
        "\r\n",
        "Now, go back to 1.1 and remove the restriction on the number of sentences in your corpus. Then, reexecute code blocks 1.2, 1.3 and 1.6 (or those relevant if you created additional ones). \r\n",
        "\r\n",
        "* Then, retrain your model on the complete dataset.\r\n",
        "\r\n",
        "* Now, the input weights of the model contain the desired word embeddings! Save them together with the corresponding vocabulary items (Pytorch provides a nice [functionality](https://pytorch.org/tutorials/beginner/saving_loading_models.html) for this)."
      ]
    },
    {
      "cell_type": "code",
      "metadata": {
        "id": "4x8hQP_bg4_g"
      },
      "source": [
        ""
      ],
      "execution_count": null,
      "outputs": []
    }
  ]
}